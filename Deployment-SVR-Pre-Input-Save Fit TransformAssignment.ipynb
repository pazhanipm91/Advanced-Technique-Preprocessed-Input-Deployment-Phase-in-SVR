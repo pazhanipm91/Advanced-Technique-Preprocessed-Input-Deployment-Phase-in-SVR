{
 "cells": [
  {
   "cell_type": "code",
   "execution_count": 14,
   "id": "b84935fa-99cc-4ea9-9764-06db09e25e1a",
   "metadata": {},
   "outputs": [],
   "source": [
    "import pickle"
   ]
  },
  {
   "cell_type": "code",
   "execution_count": 15,
   "id": "11dfb764-3058-47c3-85cf-74e27d8f7692",
   "metadata": {},
   "outputs": [],
   "source": [
    "# Load scaler + model\n",
    "sc, loaded_model = pickle.load(open(\"finalized_model_with_scaler.sav\", \"rb\"))"
   ]
  },
  {
   "cell_type": "code",
   "execution_count": 16,
   "id": "166a6c36-824c-4db1-9bf6-0bcfefad74b7",
   "metadata": {},
   "outputs": [],
   "source": [
    "# New input\n",
    "preinput = pd.DataFrame([[1300, 12000, 4000, 0, 1]],\n",
    "                        columns=['R&D Spend', 'Administration', 'Marketing Spend', 'State_Florida', 'State_New York'])\n"
   ]
  },
  {
   "cell_type": "code",
   "execution_count": 17,
   "id": "0a7a81ef-ca04-4828-a268-39a88579f7da",
   "metadata": {},
   "outputs": [],
   "source": [
    "# Scale and predict\n",
    "preinput_scaled = sc.transform(preinput)\n",
    "result = loaded_model.predict(preinput_scaled)"
   ]
  },
  {
   "cell_type": "code",
   "execution_count": 18,
   "id": "2cca3dfe-d65d-401c-a18c-4444ef585050",
   "metadata": {},
   "outputs": [
    {
     "data": {
      "text/plain": [
       "array([78556.2609937])"
      ]
     },
     "execution_count": 18,
     "metadata": {},
     "output_type": "execute_result"
    }
   ],
   "source": [
    "result"
   ]
  },
  {
   "cell_type": "code",
   "execution_count": null,
   "id": "23672f18-8b9f-4a74-82a7-a1bb0e5edb12",
   "metadata": {},
   "outputs": [],
   "source": [
    "# Apply the SAME scaler (only transform, no fitting)\n",
    "#preinput_scaled = sc.transform(preinput)"
   ]
  },
  {
   "cell_type": "code",
   "execution_count": null,
   "id": "4689b979-0cc0-4f11-8338-d30966a43a0a",
   "metadata": {},
   "outputs": [],
   "source": [
    "# Predict\n",
    "#result = loaded_model.predict(preinput_scaled)"
   ]
  },
  {
   "cell_type": "code",
   "execution_count": 17,
   "id": "a3e10c82-15b1-4fe7-8608-c91c36258340",
   "metadata": {},
   "outputs": [],
   "source": [
    "# We got the model as pre-processed input and saved in the file. \n",
    "#Incase we got the result [-1. something] = Before Pre-Processed one, Then we have to Re-run all the codes from starting to end. \n",
    "# Then we will get the exact output as Pre-Processed one and will save the model in the file."
   ]
  }
 ],
 "metadata": {
  "kernelspec": {
   "display_name": "Python [conda env:base] *",
   "language": "python",
   "name": "conda-base-py"
  },
  "language_info": {
   "codemirror_mode": {
    "name": "ipython",
    "version": 3
   },
   "file_extension": ".py",
   "mimetype": "text/x-python",
   "name": "python",
   "nbconvert_exporter": "python",
   "pygments_lexer": "ipython3",
   "version": "3.13.5"
  }
 },
 "nbformat": 4,
 "nbformat_minor": 5
}
